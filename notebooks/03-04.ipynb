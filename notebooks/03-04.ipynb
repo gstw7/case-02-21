{
 "cells": [
  {
   "cell_type": "code",
   "execution_count": 1,
   "id": "banner-unknown",
   "metadata": {},
   "outputs": [],
   "source": [
    "import pandas as pd\n",
    "import numpy as np\n",
    "import matplotlib.pyplot as plt\n",
    "import seaborn as sns\n",
    "from tqdm.notebook import tqdm\n",
    "\n",
    "import warnings\n",
    "warnings.filterwarnings(\"ignore\")\n",
    "\n",
    "SEED = 123\n",
    "np.random.seed(SEED)"
   ]
  },
  {
   "cell_type": "code",
   "execution_count": 2,
   "id": "optimum-distance",
   "metadata": {},
   "outputs": [],
   "source": [
    "DATA_RAW_PATH = '../data/raw/'\n",
    "DATA_INTER_PATH = '../data/interim/'\n",
    "FIGURES = '../figures/'\n",
    "MODELS = '../models/'\n",
    "DATA_RAW_NAME = 'teste_smarkio_lbs.xls'\n",
    "DATA_INTER_NAME = 'df_1.csv'"
   ]
  },
  {
   "cell_type": "code",
   "execution_count": 3,
   "id": "worthy-envelope",
   "metadata": {},
   "outputs": [
    {
     "data": {
      "text/html": [
       "<div>\n",
       "<style scoped>\n",
       "    .dataframe tbody tr th:only-of-type {\n",
       "        vertical-align: middle;\n",
       "    }\n",
       "\n",
       "    .dataframe tbody tr th {\n",
       "        vertical-align: top;\n",
       "    }\n",
       "\n",
       "    .dataframe thead th {\n",
       "        text-align: right;\n",
       "    }\n",
       "</style>\n",
       "<table border=\"1\" class=\"dataframe\">\n",
       "  <thead>\n",
       "    <tr style=\"text-align: right;\">\n",
       "      <th></th>\n",
       "      <th>Pred_class</th>\n",
       "      <th>probabilidade</th>\n",
       "      <th>status</th>\n",
       "      <th>True_class</th>\n",
       "    </tr>\n",
       "  </thead>\n",
       "  <tbody>\n",
       "    <tr>\n",
       "      <th>0</th>\n",
       "      <td>2</td>\n",
       "      <td>0.079892</td>\n",
       "      <td>approved</td>\n",
       "      <td>0.0</td>\n",
       "    </tr>\n",
       "    <tr>\n",
       "      <th>1</th>\n",
       "      <td>2</td>\n",
       "      <td>0.379377</td>\n",
       "      <td>approved</td>\n",
       "      <td>74.0</td>\n",
       "    </tr>\n",
       "    <tr>\n",
       "      <th>2</th>\n",
       "      <td>2</td>\n",
       "      <td>0.379377</td>\n",
       "      <td>approved</td>\n",
       "      <td>74.0</td>\n",
       "    </tr>\n",
       "    <tr>\n",
       "      <th>3</th>\n",
       "      <td>2</td>\n",
       "      <td>0.420930</td>\n",
       "      <td>approved</td>\n",
       "      <td>74.0</td>\n",
       "    </tr>\n",
       "    <tr>\n",
       "      <th>4</th>\n",
       "      <td>2</td>\n",
       "      <td>0.607437</td>\n",
       "      <td>approved</td>\n",
       "      <td>2.0</td>\n",
       "    </tr>\n",
       "    <tr>\n",
       "      <th>5</th>\n",
       "      <td>2</td>\n",
       "      <td>0.690894</td>\n",
       "      <td>approved</td>\n",
       "      <td>2.0</td>\n",
       "    </tr>\n",
       "    <tr>\n",
       "      <th>6</th>\n",
       "      <td>2</td>\n",
       "      <td>0.759493</td>\n",
       "      <td>approved</td>\n",
       "      <td>2.0</td>\n",
       "    </tr>\n",
       "  </tbody>\n",
       "</table>\n",
       "</div>"
      ],
      "text/plain": [
       "   Pred_class  probabilidade    status  True_class\n",
       "0           2       0.079892  approved         0.0\n",
       "1           2       0.379377  approved        74.0\n",
       "2           2       0.379377  approved        74.0\n",
       "3           2       0.420930  approved        74.0\n",
       "4           2       0.607437  approved         2.0\n",
       "5           2       0.690894  approved         2.0\n",
       "6           2       0.759493  approved         2.0"
      ]
     },
     "execution_count": 3,
     "metadata": {},
     "output_type": "execute_result"
    }
   ],
   "source": [
    "df = pd.read_csv(DATA_INTER_PATH+DATA_INTER_NAME)\n",
    "df.head(7)"
   ]
  },
  {
   "cell_type": "code",
   "execution_count": 4,
   "id": "appointed-definition",
   "metadata": {},
   "outputs": [
    {
     "name": "stdout",
     "output_type": "stream",
     "text": [
      "<class 'pandas.core.frame.DataFrame'>\n",
      "RangeIndex: 643 entries, 0 to 642\n",
      "Data columns (total 4 columns):\n",
      " #   Column         Non-Null Count  Dtype  \n",
      "---  ------         --------------  -----  \n",
      " 0   Pred_class     643 non-null    int64  \n",
      " 1   probabilidade  643 non-null    float64\n",
      " 2   status         643 non-null    object \n",
      " 3   True_class     643 non-null    float64\n",
      "dtypes: float64(2), int64(1), object(1)\n",
      "memory usage: 20.2+ KB\n"
     ]
    }
   ],
   "source": [
    "df.info()"
   ]
  },
  {
   "cell_type": "markdown",
   "id": "major-runner",
   "metadata": {},
   "source": [
    "### Questão 3: \n",
    "\n",
    "#### Crie um classificador que tenha como output se os dados com status igual a revision estão corretos ou não (Sugestão : Técnica de cross-validation K-fold)"
   ]
  },
  {
   "cell_type": "code",
   "execution_count": 5,
   "id": "encouraging-riverside",
   "metadata": {},
   "outputs": [],
   "source": [
    "from sklearn.linear_model import LogisticRegression\n",
    "from sklearn.ensemble import RandomForestClassifier, AdaBoostClassifier, ExtraTreesClassifier\n",
    "from sklearn.tree import DecisionTreeClassifier\n",
    "from sklearn.svm import SVC\n",
    "import lightgbm as lgbm\n",
    "import xgboost as xgb\n",
    "import catboost as ctb\n",
    "\n",
    "from sklearn.model_selection import cross_validate, cross_val_score, KFold, learning_curve\n",
    "from sklearn.metrics import f1_score, recall_score, precision_score, classification_report\n",
    "\n",
    "import pickle"
   ]
  },
  {
   "cell_type": "markdown",
   "id": "worst-bolivia",
   "metadata": {},
   "source": [
    "* input: Pred_class, probabilidade\n",
    "* output: True_class"
   ]
  },
  {
   "cell_type": "code",
   "execution_count": 6,
   "id": "pleasant-youth",
   "metadata": {},
   "outputs": [
    {
     "name": "stdout",
     "output_type": "stream",
     "text": [
      "Treino: (600, 2) (600,)\n",
      "Teste: (43, 2) (43,)\n"
     ]
    }
   ],
   "source": [
    "train = df[df['status'] == 'approved'].drop('status', axis=1)\n",
    "test = df[df['status'] == 'revision'].drop('status', axis=1)\n",
    "\n",
    "X_train = train.iloc[:,:2].values\n",
    "y_train = train.iloc[:,2].values\n",
    "\n",
    "X_test = test.iloc[:,:2].values\n",
    "y_test = test.iloc[:,2].values\n",
    "\n",
    "print('Treino:',X_train.shape, y_train.shape)\n",
    "print('Teste:',X_test.shape, y_test.shape)"
   ]
  },
  {
   "cell_type": "code",
   "execution_count": 7,
   "id": "sudden-administrator",
   "metadata": {},
   "outputs": [],
   "source": [
    "models = [\n",
    "    ('DecisionTree', DecisionTreeClassifier(random_state=SEED)),\n",
    "    ('RandomForest', RandomForestClassifier(random_state=SEED)),\n",
    "    ('ExtraTree', ExtraTreesClassifier(random_state=SEED)),\n",
    "    ('Adaboost', AdaBoostClassifier(random_state=SEED)),\n",
    "    ('XGBoost', xgb.XGBClassifier(random_state=SEED)),\n",
    "    ('LightGBM', lgbm.LGBMClassifier(random_state=SEED)),\n",
    "    ('Catboost', ctb.CatBoostClassifier(random_state=SEED, verbose=False)),\n",
    "    ('LogisticRegression', LogisticRegression(random_state=SEED)),\n",
    "    ('SVC', SVC(random_state=SEED))\n",
    "]"
   ]
  },
  {
   "cell_type": "code",
   "execution_count": 8,
   "id": "native-orchestra",
   "metadata": {},
   "outputs": [
    {
     "data": {
      "application/vnd.jupyter.widget-view+json": {
       "model_id": "32c7acf9c81440088b0504de38f2a99c",
       "version_major": 2,
       "version_minor": 0
      },
      "text/plain": [
       "  0%|          | 0/9 [00:00<?, ?it/s]"
      ]
     },
     "metadata": {},
     "output_type": "display_data"
    },
    {
     "name": "stdout",
     "output_type": "stream",
     "text": [
      "[18:03:17] WARNING: C:/Users/Administrator/workspace/xgboost-win64_release_1.3.0/src/learner.cc:1061: Starting in XGBoost 1.3.0, the default evaluation metric used with the objective 'multi:softprob' was changed from 'merror' to 'mlogloss'. Explicitly set eval_metric if you'd like to restore the old behavior.\n",
      "[18:03:18] WARNING: C:/Users/Administrator/workspace/xgboost-win64_release_1.3.0/src/learner.cc:1061: Starting in XGBoost 1.3.0, the default evaluation metric used with the objective 'multi:softprob' was changed from 'merror' to 'mlogloss'. Explicitly set eval_metric if you'd like to restore the old behavior.\n",
      "[18:03:19] WARNING: C:/Users/Administrator/workspace/xgboost-win64_release_1.3.0/src/learner.cc:1061: Starting in XGBoost 1.3.0, the default evaluation metric used with the objective 'multi:softprob' was changed from 'merror' to 'mlogloss'. Explicitly set eval_metric if you'd like to restore the old behavior.\n"
     ]
    }
   ],
   "source": [
    "original = pd.DataFrame()\n",
    "\n",
    "for name, model in tqdm(models):\n",
    "    \n",
    "    kfold = KFold(n_splits=3, random_state=SEED, shuffle=True)\n",
    "    score = cross_validate(model, X_train, y_train, cv=kfold, scoring=['precision_weighted','recall_weighted','f1_weighted'], return_train_score=True)        \n",
    "    additional = pd.DataFrame({\n",
    "    'precision_train': np.mean(score['train_precision_weighted']),\n",
    "    'precision_test' :  np.mean(score['test_precision_weighted']),\n",
    "    'recall_train': np.mean(score['train_recall_weighted']),\n",
    "    'recall_test' : np.mean(score['test_recall_weighted']),\n",
    "    'f1_train' : np.mean(score['train_f1_weighted']),\n",
    "    'f1_test' : np.mean(score['test_f1_weighted']),\n",
    "    }, index=[name])\n",
    "\n",
    "    new = pd.concat([original, additional], axis=0)\n",
    "    original = new"
   ]
  },
  {
   "cell_type": "markdown",
   "id": "champion-truck",
   "metadata": {},
   "source": [
    "### Questão 4:\n",
    "\n",
    "#### Compare três métricas de avaliação aplicadas ao modelo e descreva sobre a diferença."
   ]
  },
  {
   "cell_type": "code",
   "execution_count": 9,
   "id": "documentary-popularity",
   "metadata": {},
   "outputs": [
    {
     "data": {
      "text/html": [
       "<div>\n",
       "<style scoped>\n",
       "    .dataframe tbody tr th:only-of-type {\n",
       "        vertical-align: middle;\n",
       "    }\n",
       "\n",
       "    .dataframe tbody tr th {\n",
       "        vertical-align: top;\n",
       "    }\n",
       "\n",
       "    .dataframe thead th {\n",
       "        text-align: right;\n",
       "    }\n",
       "</style>\n",
       "<table border=\"1\" class=\"dataframe\">\n",
       "  <thead>\n",
       "    <tr style=\"text-align: right;\">\n",
       "      <th></th>\n",
       "      <th>precision_train</th>\n",
       "      <th>precision_test</th>\n",
       "      <th>recall_train</th>\n",
       "      <th>recall_test</th>\n",
       "      <th>f1_train</th>\n",
       "      <th>f1_test</th>\n",
       "    </tr>\n",
       "  </thead>\n",
       "  <tbody>\n",
       "    <tr>\n",
       "      <th>DecisionTree</th>\n",
       "      <td>0.997536</td>\n",
       "      <td>0.593028</td>\n",
       "      <td>0.997500</td>\n",
       "      <td>0.593333</td>\n",
       "      <td>0.997498</td>\n",
       "      <td>0.573649</td>\n",
       "    </tr>\n",
       "    <tr>\n",
       "      <th>RandomForest</th>\n",
       "      <td>0.997557</td>\n",
       "      <td>0.539982</td>\n",
       "      <td>0.997500</td>\n",
       "      <td>0.553333</td>\n",
       "      <td>0.997486</td>\n",
       "      <td>0.525923</td>\n",
       "    </tr>\n",
       "    <tr>\n",
       "      <th>ExtraTree</th>\n",
       "      <td>0.997536</td>\n",
       "      <td>0.546556</td>\n",
       "      <td>0.997500</td>\n",
       "      <td>0.561667</td>\n",
       "      <td>0.997498</td>\n",
       "      <td>0.533728</td>\n",
       "    </tr>\n",
       "    <tr>\n",
       "      <th>Adaboost</th>\n",
       "      <td>0.110871</td>\n",
       "      <td>0.118734</td>\n",
       "      <td>0.222500</td>\n",
       "      <td>0.225000</td>\n",
       "      <td>0.124007</td>\n",
       "      <td>0.128146</td>\n",
       "    </tr>\n",
       "    <tr>\n",
       "      <th>XGBoost</th>\n",
       "      <td>0.982366</td>\n",
       "      <td>0.619289</td>\n",
       "      <td>0.988333</td>\n",
       "      <td>0.633333</td>\n",
       "      <td>0.984853</td>\n",
       "      <td>0.605545</td>\n",
       "    </tr>\n",
       "    <tr>\n",
       "      <th>LightGBM</th>\n",
       "      <td>0.984414</td>\n",
       "      <td>0.590629</td>\n",
       "      <td>0.983333</td>\n",
       "      <td>0.610000</td>\n",
       "      <td>0.982171</td>\n",
       "      <td>0.580296</td>\n",
       "    </tr>\n",
       "    <tr>\n",
       "      <th>Catboost</th>\n",
       "      <td>0.973669</td>\n",
       "      <td>0.572989</td>\n",
       "      <td>0.973333</td>\n",
       "      <td>0.593333</td>\n",
       "      <td>0.972207</td>\n",
       "      <td>0.559784</td>\n",
       "    </tr>\n",
       "    <tr>\n",
       "      <th>LogisticRegression</th>\n",
       "      <td>0.105122</td>\n",
       "      <td>0.055064</td>\n",
       "      <td>0.215000</td>\n",
       "      <td>0.185000</td>\n",
       "      <td>0.105144</td>\n",
       "      <td>0.075540</td>\n",
       "    </tr>\n",
       "    <tr>\n",
       "      <th>SVC</th>\n",
       "      <td>0.104726</td>\n",
       "      <td>0.092244</td>\n",
       "      <td>0.270833</td>\n",
       "      <td>0.241667</td>\n",
       "      <td>0.148538</td>\n",
       "      <td>0.129543</td>\n",
       "    </tr>\n",
       "  </tbody>\n",
       "</table>\n",
       "</div>"
      ],
      "text/plain": [
       "                    precision_train  precision_test  recall_train  \\\n",
       "DecisionTree               0.997536        0.593028      0.997500   \n",
       "RandomForest               0.997557        0.539982      0.997500   \n",
       "ExtraTree                  0.997536        0.546556      0.997500   \n",
       "Adaboost                   0.110871        0.118734      0.222500   \n",
       "XGBoost                    0.982366        0.619289      0.988333   \n",
       "LightGBM                   0.984414        0.590629      0.983333   \n",
       "Catboost                   0.973669        0.572989      0.973333   \n",
       "LogisticRegression         0.105122        0.055064      0.215000   \n",
       "SVC                        0.104726        0.092244      0.270833   \n",
       "\n",
       "                    recall_test  f1_train   f1_test  \n",
       "DecisionTree           0.593333  0.997498  0.573649  \n",
       "RandomForest           0.553333  0.997486  0.525923  \n",
       "ExtraTree              0.561667  0.997498  0.533728  \n",
       "Adaboost               0.225000  0.124007  0.128146  \n",
       "XGBoost                0.633333  0.984853  0.605545  \n",
       "LightGBM               0.610000  0.982171  0.580296  \n",
       "Catboost               0.593333  0.972207  0.559784  \n",
       "LogisticRegression     0.185000  0.105144  0.075540  \n",
       "SVC                    0.241667  0.148538  0.129543  "
      ]
     },
     "execution_count": 9,
     "metadata": {},
     "output_type": "execute_result"
    }
   ],
   "source": [
    "original"
   ]
  },
  {
   "cell_type": "markdown",
   "id": "damaged-spring",
   "metadata": {},
   "source": [
    "Como escolher uma dessas métricas?\n",
    "\n",
    "Dependeria do problema em si do negócio. \n",
    "- Caso os falsos positivos impactassem mais no négocio a escolha seria: *precision*.\n",
    "- Caso os falsos negativos tivessem maior impacto: *recall*.\n",
    "- Caso em que o négocio precisa de um equilíbrio entre essas duas métricas citadas acima: *f1-score*.\n",
    "\n",
    "Como existe um equilíbrio entre *Precision* e *Recall* nesse caso, irei avaliar *f1-Score*.\n",
    "\n",
    "\n",
    "Podemos perceber um possível problema com *overfitting*. O modelo está se saindo muito bem no treino, porém no teste não."
   ]
  },
  {
   "cell_type": "code",
   "execution_count": 10,
   "id": "obvious-maintenance",
   "metadata": {},
   "outputs": [],
   "source": [
    "model = xgb.XGBClassifier(random_state=SEED)"
   ]
  },
  {
   "cell_type": "code",
   "execution_count": 11,
   "id": "essential-check",
   "metadata": {},
   "outputs": [
    {
     "data": {
      "image/png": "[encoded data removed]",
      "text/plain": [
       "<Figure size 1080x720 with 1 Axes>"
      ]
     },
     "metadata": {
      "needs_background": "light"
     },
     "output_type": "display_data"
    }
   ],
   "source": [
    "train_sizes, train_scores, test_scores= learning_curve(model, X_train, y_train, cv=kfold, n_jobs=-1, train_sizes=np.linspace(.1, 1.0, 5))\n",
    "\n",
    "train_scores_mean = np.mean(train_scores, axis=1)\n",
    "train_scores_std = np.std(train_scores, axis=1)\n",
    "test_scores_mean = np.mean(test_scores, axis=1)\n",
    "test_scores_std = np.std(test_scores, axis=1)\n",
    "\n",
    "fig, ax = plt.subplots(figsize=(15, 10))\n",
    "\n",
    "ax.grid()\n",
    "ax.fill_between(train_sizes, train_scores_mean - train_scores_std, train_scores_mean + train_scores_std, alpha=0.1, color=\"r\")\n",
    "ax.fill_between(train_sizes, test_scores_mean - test_scores_std, test_scores_mean + test_scores_std, alpha=0.1, color=\"g\")\n",
    "\n",
    "ax.plot(train_sizes, train_scores_mean, 'o-', color=\"r\", label=\"Training score\")\n",
    "ax.plot(train_sizes, test_scores_mean, 'o-', color=\"g\", label=\"Cross-validation score\")\n",
    "\n",
    "ax.legend(loc=\"best\")\n",
    "ax.set_xlabel(\"Training examples\")\n",
    "ax.set_ylabel(\"Score\")\n",
    "\n",
    "fig.savefig(FIGURES+'/learning_curve.png')"
   ]
  },
  {
   "cell_type": "markdown",
   "id": "unique-transfer",
   "metadata": {},
   "source": [
    "Enfrentamos um problema de *overfitting*"
   ]
  },
  {
   "cell_type": "code",
   "execution_count": 12,
   "id": "extraordinary-salvation",
   "metadata": {},
   "outputs": [
    {
     "data": {
      "application/vnd.jupyter.widget-view+json": {
       "model_id": "cbabea1f1f074fd6b1956f4ed8843cc0",
       "version_major": 2,
       "version_minor": 0
      },
      "text/plain": [
       "  0%|          | 0/9 [00:00<?, ?it/s]"
      ]
     },
     "metadata": {},
     "output_type": "display_data"
    },
    {
     "name": "stdout",
     "output_type": "stream",
     "text": [
      "[18:06:29] WARNING: C:/Users/Administrator/workspace/xgboost-win64_release_1.3.0/src/learner.cc:1061: Starting in XGBoost 1.3.0, the default evaluation metric used with the objective 'multi:softprob' was changed from 'merror' to 'mlogloss'. Explicitly set eval_metric if you'd like to restore the old behavior.\n",
      "[18:06:31] WARNING: C:/Users/Administrator/workspace/xgboost-win64_release_1.3.0/src/learner.cc:1061: Starting in XGBoost 1.3.0, the default evaluation metric used with the objective 'multi:softprob' was changed from 'merror' to 'mlogloss'. Explicitly set eval_metric if you'd like to restore the old behavior.\n",
      "[18:06:32] WARNING: C:/Users/Administrator/workspace/xgboost-win64_release_1.3.0/src/learner.cc:1061: Starting in XGBoost 1.3.0, the default evaluation metric used with the objective 'multi:softprob' was changed from 'merror' to 'mlogloss'. Explicitly set eval_metric if you'd like to restore the old behavior.\n"
     ]
    },
    {
     "data": {
      "image/png": "[encoded data removed]",
      "text/plain": [
       "<Figure size 864x432 with 1 Axes>"
      ]
     },
     "metadata": {
      "needs_background": "light"
     },
     "output_type": "display_data"
    }
   ],
   "source": [
    "results = []\n",
    "names = []\n",
    "\n",
    "for name, model in tqdm(models):\n",
    "    cv_results = cross_val_score(model, X_train, y_train, cv=kfold, scoring=('f1_weighted'))\n",
    "    results.append(cv_results)\n",
    "    names.append(name)\n",
    "\n",
    "fig = plt.figure(figsize=(12,6))\n",
    "fig.suptitle('Comparação entre algoritmos - F1-Score')\n",
    "ax = fig.add_subplot(111)\n",
    "plt.boxplot(results)\n",
    "ax.set_xticklabels(names)\n",
    "plt.ylabel('Precision score')\n",
    "plt.xticks(rotation=45)\n",
    "plt.grid(b=False)\n",
    "plt.show()\n",
    "\n",
    "fig.savefig(FIGURES+'/comparacao-modelos.png')"
   ]
  },
  {
   "cell_type": "markdown",
   "id": "southwest-inside",
   "metadata": {},
   "source": [
    "Como existem várias *classes* na previsão, utilizo todas as métricas com *'_weighted'*, assim consigo, com base na proporção da *classe* que está sendo prevista, colocar um ponderar/colocar um peso sobre essa *classe*.\n",
    "\n",
    "Modelo selecionado: *XGBoost*"
   ]
  },
  {
   "cell_type": "markdown",
   "id": "applied-words",
   "metadata": {},
   "source": [
    "#### Predict"
   ]
  },
  {
   "cell_type": "code",
   "execution_count": 13,
   "id": "floating-garage",
   "metadata": {},
   "outputs": [
    {
     "name": "stdout",
     "output_type": "stream",
     "text": [
      "              precision    recall  f1-score   support\n",
      "\n",
      "         0.0       0.00      0.00      0.00         0\n",
      "         2.0       0.00      0.00      0.00         3\n",
      "         3.0       0.27      1.00      0.43         3\n",
      "         4.0       0.00      0.00      0.00         3\n",
      "        11.0       0.00      0.00      0.00         1\n",
      "        12.0       0.00      0.00      0.00         1\n",
      "        17.0       0.00      0.00      0.00         1\n",
      "        22.0       0.00      0.00      0.00         1\n",
      "        24.0       0.00      0.00      0.00         5\n",
      "        25.0       0.00      0.00      0.00         3\n",
      "        32.0       0.00      0.00      0.00         1\n",
      "        36.0       0.00      0.00      0.00         1\n",
      "        39.0       0.00      0.00      0.00         2\n",
      "        43.0       0.00      0.00      0.00         2\n",
      "        55.0       0.00      0.00      0.00         2\n",
      "        60.0       0.00      0.00      0.00         4\n",
      "        74.0       0.00      0.00      0.00         0\n",
      "        77.0       0.00      0.00      0.00         3\n",
      "        81.0       0.00      0.00      0.00         1\n",
      "        84.0       0.00      0.00      0.00         1\n",
      "        86.0       0.00      0.00      0.00         1\n",
      "        96.0       1.00      1.00      1.00         2\n",
      "       110.0       0.00      0.00      0.00         0\n",
      "       113.0       0.00      0.00      0.00         1\n",
      "       114.0       0.00      0.00      0.00         1\n",
      "\n",
      "    accuracy                           0.12        43\n",
      "   macro avg       0.05      0.08      0.06        43\n",
      "weighted avg       0.07      0.12      0.08        43\n",
      "\n"
     ]
    }
   ],
   "source": [
    "model.fit(X_train, y_train)\n",
    "\n",
    "y_pred = model.predict(X_test)\n",
    "\n",
    "print(classification_report(y_test, y_pred))"
   ]
  },
  {
   "cell_type": "markdown",
   "id": "substantial-browser",
   "metadata": {},
   "source": [
    "Modelo conseguiu acertar 56% dos dados que estavam em *revision*."
   ]
  },
  {
   "cell_type": "code",
   "execution_count": 14,
   "id": "featured-structure",
   "metadata": {},
   "outputs": [],
   "source": [
    "pickle.dump(model, open(MODELS+'modelo_classificador.sav', 'wb'))"
   ]
  },
  {
   "cell_type": "markdown",
   "id": "indie-multimedia",
   "metadata": {},
   "source": [
    "Exportação do modelo."
   ]
  }
 ],
 "metadata": {
  "kernelspec": {
   "display_name": "Python 3",
   "language": "python",
   "name": "python3"
  },
  "language_info": {
   "codemirror_mode": {
    "name": "ipython",
    "version": 3
   },
   "file_extension": ".py",
   "mimetype": "text/x-python",
   "name": "python",
   "nbconvert_exporter": "python",
   "pygments_lexer": "ipython3",
   "version": "3.8.8"
  }
 },
 "nbformat": 4,
 "nbformat_minor": 5
}
