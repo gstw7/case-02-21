{
 "cells": [
  {
   "cell_type": "code",
   "execution_count": 1,
   "id": "satisfactory-calvin",
   "metadata": {},
   "outputs": [],
   "source": [
    "import pandas as pd\n",
    "import numpy as np\n",
    "import matplotlib.pyplot as plt\n",
    "import seaborn as sns\n",
    "\n",
    "import warnings\n",
    "warnings.filterwarnings(\"ignore\")"
   ]
  },
  {
   "cell_type": "markdown",
   "id": "local-honduras",
   "metadata": {},
   "source": [
    "2. Segunda aba - NLP:\n",
    "\n",
    "    **a. letra - trecho de música;**\n",
    "    \n",
    "    **b. artista - cantora referente a letra.**\n"
   ]
  },
  {
   "cell_type": "markdown",
   "id": "english-flood",
   "metadata": {},
   "source": [
    "### Questão 5:\n",
    "\n",
    "#### Crie um classificador, a partir da segunda aba - NLP do arquivo de dados, que permita identificar qual trecho de música corresponde às respectivas artistas listadas (Sugestão: Naive Bayes Classifier)."
   ]
  },
  {
   "cell_type": "code",
   "execution_count": 2,
   "id": "qualified-wallpaper",
   "metadata": {},
   "outputs": [],
   "source": [
    "DATA_RAW_PATH = '../data/raw/'\n",
    "DATA_INTER_PATH = '../data/interim/'\n",
    "FIGURES = '../figures/'\n",
    "MODELS = '../models/'\n",
    "DATA_RAW_NAME = 'teste_smarkio_lbs.xls'\n",
    "DATA_INTER_NAME = 'df_2.csv'"
   ]
  },
  {
   "cell_type": "code",
   "execution_count": 3,
   "id": "directed-component",
   "metadata": {
    "scrolled": true
   },
   "outputs": [
    {
     "data": {
      "text/html": [
       "<div>\n",
       "<style scoped>\n",
       "    .dataframe tbody tr th:only-of-type {\n",
       "        vertical-align: middle;\n",
       "    }\n",
       "\n",
       "    .dataframe tbody tr th {\n",
       "        vertical-align: top;\n",
       "    }\n",
       "\n",
       "    .dataframe thead th {\n",
       "        text-align: right;\n",
       "    }\n",
       "</style>\n",
       "<table border=\"1\" class=\"dataframe\">\n",
       "  <thead>\n",
       "    <tr style=\"text-align: right;\">\n",
       "      <th></th>\n",
       "      <th>letra</th>\n",
       "      <th>artista</th>\n",
       "    </tr>\n",
       "  </thead>\n",
       "  <tbody>\n",
       "    <tr>\n",
       "      <th>0</th>\n",
       "      <td>Jay-z Uh-uh-uh You ready b? Let's go get 'em. ...</td>\n",
       "      <td>Beyoncé</td>\n",
       "    </tr>\n",
       "    <tr>\n",
       "      <th>1</th>\n",
       "      <td>Your challengers are a young group from Housto...</td>\n",
       "      <td>Beyoncé</td>\n",
       "    </tr>\n",
       "    <tr>\n",
       "      <th>2</th>\n",
       "      <td>Dum-da-de-da Do, do, do, do, do, do (Coming do...</td>\n",
       "      <td>Beyoncé</td>\n",
       "    </tr>\n",
       "    <tr>\n",
       "      <th>3</th>\n",
       "      <td>If I ain't got nothing I got you If I ain't go...</td>\n",
       "      <td>Beyoncé</td>\n",
       "    </tr>\n",
       "    <tr>\n",
       "      <th>4</th>\n",
       "      <td>Six inch heels She walked in the club like nob...</td>\n",
       "      <td>Beyoncé</td>\n",
       "    </tr>\n",
       "    <tr>\n",
       "      <th>5</th>\n",
       "      <td>(hello) hello How are you (oh) I just got to s...</td>\n",
       "      <td>Beyoncé</td>\n",
       "    </tr>\n",
       "    <tr>\n",
       "      <th>6</th>\n",
       "      <td>Shoulders sideways, smack it, smack it in the ...</td>\n",
       "      <td>Beyoncé</td>\n",
       "    </tr>\n",
       "  </tbody>\n",
       "</table>\n",
       "</div>"
      ],
      "text/plain": [
       "                                               letra  artista\n",
       "0  Jay-z Uh-uh-uh You ready b? Let's go get 'em. ...  Beyoncé\n",
       "1  Your challengers are a young group from Housto...  Beyoncé\n",
       "2  Dum-da-de-da Do, do, do, do, do, do (Coming do...  Beyoncé\n",
       "3  If I ain't got nothing I got you If I ain't go...  Beyoncé\n",
       "4  Six inch heels She walked in the club like nob...  Beyoncé\n",
       "5  (hello) hello How are you (oh) I just got to s...  Beyoncé\n",
       "6  Shoulders sideways, smack it, smack it in the ...  Beyoncé"
      ]
     },
     "execution_count": 3,
     "metadata": {},
     "output_type": "execute_result"
    }
   ],
   "source": [
    "df_raw = pd.read_excel(DATA_RAW_PATH+DATA_RAW_NAME, 'NLP')\n",
    "df_raw.head(7)"
   ]
  },
  {
   "cell_type": "code",
   "execution_count": 4,
   "id": "differential-satellite",
   "metadata": {},
   "outputs": [
    {
     "name": "stdout",
     "output_type": "stream",
     "text": [
      "<class 'pandas.core.frame.DataFrame'>\n",
      "RangeIndex: 518 entries, 0 to 517\n",
      "Data columns (total 2 columns):\n",
      " #   Column   Non-Null Count  Dtype \n",
      "---  ------   --------------  ----- \n",
      " 0   letra    518 non-null    object\n",
      " 1   artista  518 non-null    object\n",
      "dtypes: object(2)\n",
      "memory usage: 8.2+ KB\n"
     ]
    }
   ],
   "source": [
    "df_raw.info()"
   ]
  },
  {
   "cell_type": "code",
   "execution_count": 5,
   "id": "developing-information",
   "metadata": {},
   "outputs": [
    {
     "data": {
      "text/plain": [
       "array(['Beyoncé', 'Rihanna'], dtype=object)"
      ]
     },
     "execution_count": 5,
     "metadata": {},
     "output_type": "execute_result"
    }
   ],
   "source": [
    "df_raw['artista'].unique()"
   ]
  },
  {
   "cell_type": "code",
   "execution_count": 6,
   "id": "entertaining-shareware",
   "metadata": {},
   "outputs": [
    {
     "data": {
      "text/plain": [
       "artista\n",
       "Beyoncé    274\n",
       "Rihanna    244\n",
       "Name: letra, dtype: int64"
      ]
     },
     "execution_count": 6,
     "metadata": {},
     "output_type": "execute_result"
    }
   ],
   "source": [
    "df_raw.groupby(by='artista')['letra'].count()"
   ]
  },
  {
   "cell_type": "code",
   "execution_count": 7,
   "id": "considerable-budapest",
   "metadata": {},
   "outputs": [],
   "source": [
    "df = df_raw.copy()\n",
    "df['letra'] = df['letra'].apply(lambda x: x.lower())\n",
    "df['letra'] = df['letra'].str.replace(r'[^\\w\\s]','')\n",
    "\n",
    "df.to_csv(DATA_INTER_PATH+DATA_INTER_NAME, index=False)"
   ]
  },
  {
   "cell_type": "markdown",
   "id": "geographic-intersection",
   "metadata": {},
   "source": [
    "Acima estou removendo todos os caracteres especiais e deixando todas as letras das músicas minúsculas."
   ]
  },
  {
   "cell_type": "code",
   "execution_count": 8,
   "id": "suitable-albert",
   "metadata": {},
   "outputs": [
    {
     "data": {
      "text/html": [
       "<div>\n",
       "<style scoped>\n",
       "    .dataframe tbody tr th:only-of-type {\n",
       "        vertical-align: middle;\n",
       "    }\n",
       "\n",
       "    .dataframe tbody tr th {\n",
       "        vertical-align: top;\n",
       "    }\n",
       "\n",
       "    .dataframe thead th {\n",
       "        text-align: right;\n",
       "    }\n",
       "</style>\n",
       "<table border=\"1\" class=\"dataframe\">\n",
       "  <thead>\n",
       "    <tr style=\"text-align: right;\">\n",
       "      <th></th>\n",
       "      <th>letra</th>\n",
       "      <th>artista</th>\n",
       "    </tr>\n",
       "  </thead>\n",
       "  <tbody>\n",
       "    <tr>\n",
       "      <th>0</th>\n",
       "      <td>jayz uhuhuh you ready b lets go get em  look f...</td>\n",
       "      <td>Beyoncé</td>\n",
       "    </tr>\n",
       "    <tr>\n",
       "      <th>1</th>\n",
       "      <td>your challengers are a young group from housto...</td>\n",
       "      <td>Beyoncé</td>\n",
       "    </tr>\n",
       "    <tr>\n",
       "      <th>2</th>\n",
       "      <td>dumdadeda do do do do do do coming down drippi...</td>\n",
       "      <td>Beyoncé</td>\n",
       "    </tr>\n",
       "    <tr>\n",
       "      <th>3</th>\n",
       "      <td>if i aint got nothing i got you if i aint got ...</td>\n",
       "      <td>Beyoncé</td>\n",
       "    </tr>\n",
       "    <tr>\n",
       "      <th>4</th>\n",
       "      <td>six inch heels she walked in the club like nob...</td>\n",
       "      <td>Beyoncé</td>\n",
       "    </tr>\n",
       "    <tr>\n",
       "      <th>5</th>\n",
       "      <td>hello hello how are you oh i just got to say i...</td>\n",
       "      <td>Beyoncé</td>\n",
       "    </tr>\n",
       "    <tr>\n",
       "      <th>6</th>\n",
       "      <td>shoulders sideways smack it smack it in the ai...</td>\n",
       "      <td>Beyoncé</td>\n",
       "    </tr>\n",
       "  </tbody>\n",
       "</table>\n",
       "</div>"
      ],
      "text/plain": [
       "                                               letra  artista\n",
       "0  jayz uhuhuh you ready b lets go get em  look f...  Beyoncé\n",
       "1  your challengers are a young group from housto...  Beyoncé\n",
       "2  dumdadeda do do do do do do coming down drippi...  Beyoncé\n",
       "3  if i aint got nothing i got you if i aint got ...  Beyoncé\n",
       "4  six inch heels she walked in the club like nob...  Beyoncé\n",
       "5  hello hello how are you oh i just got to say i...  Beyoncé\n",
       "6  shoulders sideways smack it smack it in the ai...  Beyoncé"
      ]
     },
     "execution_count": 8,
     "metadata": {},
     "output_type": "execute_result"
    }
   ],
   "source": [
    "df.head(7)"
   ]
  },
  {
   "cell_type": "code",
   "execution_count": 9,
   "id": "noble-strength",
   "metadata": {},
   "outputs": [],
   "source": [
    "from sklearn.model_selection import train_test_split\n",
    "\n",
    "X = df['letra']\n",
    "y = df['artista']\n",
    "\n",
    "X_train, X_test, y_train, y_test = train_test_split(X, y, test_size=0.25, random_state=123, stratify=y)"
   ]
  },
  {
   "cell_type": "code",
   "execution_count": 10,
   "id": "thrown-apache",
   "metadata": {},
   "outputs": [
    {
     "name": "stderr",
     "output_type": "stream",
     "text": [
      "[nltk_data] Downloading package stopwords to\n",
      "[nltk_data]     C:\\Users\\gust4\\AppData\\Roaming\\nltk_data...\n",
      "[nltk_data]   Package stopwords is already up-to-date!\n",
      "[nltk_data] Downloading package punkt to\n",
      "[nltk_data]     C:\\Users\\gust4\\AppData\\Roaming\\nltk_data...\n",
      "[nltk_data]   Package punkt is already up-to-date!\n",
      "[nltk_data] Downloading package wordnet to\n",
      "[nltk_data]     C:\\Users\\gust4\\AppData\\Roaming\\nltk_data...\n",
      "[nltk_data]   Package wordnet is already up-to-date!\n"
     ]
    },
    {
     "data": {
      "text/plain": [
       "True"
      ]
     },
     "execution_count": 10,
     "metadata": {},
     "output_type": "execute_result"
    }
   ],
   "source": [
    "from sklearn.feature_extraction.text import CountVectorizer\n",
    "from sklearn.feature_extraction.text import TfidfVectorizer\n",
    "from sklearn.metrics import confusion_matrix\n",
    "from sklearn.naive_bayes import MultinomialNB\n",
    "from sklearn.pipeline import Pipeline\n",
    "import pickle\n",
    "\n",
    "import nltk\n",
    "nltk.download('stopwords')\n",
    "nltk.download('punkt')\n",
    "nltk.download('wordnet')"
   ]
  },
  {
   "cell_type": "markdown",
   "id": "backed-competition",
   "metadata": {},
   "source": [
    "Utilizando CountVectorizer para tokenizar as letras das músicas.\n",
    "\n",
    "- Com o CountVectorizer consigo separar todas as palavras únicas no texto e transformar num vetor binário que vai identificar cada uma dessas palavras."
   ]
  },
  {
   "cell_type": "code",
   "execution_count": 13,
   "id": "ruled-warren",
   "metadata": {},
   "outputs": [
    {
     "name": "stdout",
     "output_type": "stream",
     "text": [
      "Classificou as músicas corretas em 67.69 % das vezes.\n"
     ]
    }
   ],
   "source": [
    "pipe = Pipeline(\n",
    "    [('vect', CountVectorizer()),\n",
    "     ('clf', MultinomialNB(alpha=0.1))])\n",
    "\n",
    "pipe.fit(X_train, y_train)\n",
    "\n",
    "y_pred = pipe.predict(X_test)\n",
    "\n",
    "print('Classificou as músicas corretas em',round(np.mean(y_pred == y_test)*100,2),'% das vezes.')"
   ]
  },
  {
   "cell_type": "markdown",
   "id": "brilliant-calgary",
   "metadata": {},
   "source": [
    "Utilizando TfidfVectorizer para tokenizar as letras das músicas.\n",
    "\n",
    "- Com o TfidfVectorizer consigo mensuram a importância de cada palavra nas músicas."
   ]
  },
  {
   "cell_type": "code",
   "execution_count": 16,
   "id": "derived-exclusion",
   "metadata": {},
   "outputs": [
    {
     "name": "stdout",
     "output_type": "stream",
     "text": [
      "Classificou as músicas corretas em 69.23 % das vezes.\n"
     ]
    }
   ],
   "source": [
    "pipe = Pipeline(\n",
    "    [('vect', TfidfVectorizer()),\n",
    "     ('clf', MultinomialNB(alpha=0.1))])\n",
    "\n",
    "# train our model on training data\n",
    "pipe.fit(X_train, y_train)  \n",
    "\n",
    "# score our model on testing data\n",
    "y_pred = pipe.predict(X_test)\n",
    "print('Classificou as músicas corretas em',round(np.mean(y_pred == y_test)*100,2),'% das vezes.')"
   ]
  },
  {
   "cell_type": "code",
   "execution_count": 17,
   "id": "ideal-emission",
   "metadata": {},
   "outputs": [
    {
     "data": {
      "image/png": "[encoded data removed]",
      "text/plain": [
       "<Figure size 432x288 with 1 Axes>"
      ]
     },
     "metadata": {
      "needs_background": "light"
     },
     "output_type": "display_data"
    }
   ],
   "source": [
    "artistas = df['artista'].unique()\n",
    "\n",
    "mat = confusion_matrix(y_test, y_pred)\n",
    "fig = sns.heatmap(mat.T, square=True, annot=True, fmt='d', cbar=False, xticklabels=artistas, yticklabels=artistas)\n",
    "plt.xlabel('true label')\n",
    "plt.ylabel('predicted label')\n",
    "\n",
    "plt.savefig(FIGURES+'/matriz_artistas.png')"
   ]
  },
  {
   "cell_type": "markdown",
   "id": "coated-nowhere",
   "metadata": {},
   "source": [
    "- Como podemos observar o modelo conseguiu acertar 52 vezes as letras de Beyoncé e errar 23 vezes, classificando como Rihanna.\n",
    "- Para Rihanna conseguiu acertar 38 letras e errar 17 vezes."
   ]
  },
  {
   "cell_type": "code",
   "execution_count": 18,
   "id": "historical-confidentiality",
   "metadata": {},
   "outputs": [],
   "source": [
    "pickle.dump(pipe, open(MODELS+'modelo_nlp.sav', 'wb'))"
   ]
  },
  {
   "cell_type": "markdown",
   "id": "signal-second",
   "metadata": {},
   "source": [
    "Exportação da pipeline do modelo."
   ]
  }
 ],
 "metadata": {
  "kernelspec": {
   "display_name": "Python 3",
   "language": "python",
   "name": "python3"
  },
  "language_info": {
   "codemirror_mode": {
    "name": "ipython",
    "version": 3
   },
   "file_extension": ".py",
   "mimetype": "text/x-python",
   "name": "python",
   "nbconvert_exporter": "python",
   "pygments_lexer": "ipython3",
   "version": "3.8.8"
  }
 },
 "nbformat": 4,
 "nbformat_minor": 5
}
