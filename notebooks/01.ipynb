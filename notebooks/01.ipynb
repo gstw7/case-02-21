{
 "cells": [
  {
   "cell_type": "code",
   "execution_count": 1,
   "metadata": {},
   "outputs": [],
   "source": [
    "import pandas as pd\n",
    "import numpy as np\n",
    "import seaborn as sns\n",
    "import missingno as msno\n",
    "\n",
    "import matplotlib.pyplot as plt\n",
    "from dependencies.auxiliar import aux\n",
    "\n",
    "import warnings\n",
    "warnings.filterwarnings(\"ignore\")"
   ]
  },
  {
   "cell_type": "code",
   "execution_count": 2,
   "metadata": {},
   "outputs": [],
   "source": [
    "DATA_RAW_PATH = '../data/raw/'\n",
    "DATA_INTER_PATH = '../data/interim/'\n",
    "FIGURES = '../figures/'\n",
    "DATA_RAW_NAME = 'teste_smarkio_lbs.xls'\n",
    "DATA_INTER_NAME = 'df_1.csv'"
   ]
  },
  {
   "cell_type": "markdown",
   "metadata": {},
   "source": [
    "Os datasets possuem as seguintes colunas:\n",
    "1. Primeira aba - Análise_ML:\n",
    "\n",
    "    **a. pred_class - A classe que foi identificada pelo modelo;**\n",
    "    \n",
    "    **b. probabilidade - A probabilidade da classe que o modelo identificou;**\n",
    "    \n",
    "    **c. status - status da classificação de acordo com um especialista (approved);**\n",
    "\n",
    "    **d. true_class - A classe verdadeira (se nula, assumir o pred_class);**\n",
    "    \n",
    "    **Obs: Se pred_class é igual a true_class, temos que o modelo acertou.**\n",
    "\n",
    "\n",
    "2. Segunda aba - NLP:\n",
    "\n",
    "    **a. letra - trecho de música;**\n",
    "    \n",
    "    **b. artista - cantora referente a letra**"
   ]
  },
  {
   "cell_type": "code",
   "execution_count": 3,
   "metadata": {},
   "outputs": [
    {
     "data": {
      "text/html": [
       "<div>\n",
       "<style scoped>\n",
       "    .dataframe tbody tr th:only-of-type {\n",
       "        vertical-align: middle;\n",
       "    }\n",
       "\n",
       "    .dataframe tbody tr th {\n",
       "        vertical-align: top;\n",
       "    }\n",
       "\n",
       "    .dataframe thead th {\n",
       "        text-align: right;\n",
       "    }\n",
       "</style>\n",
       "<table border=\"1\" class=\"dataframe\">\n",
       "  <thead>\n",
       "    <tr style=\"text-align: right;\">\n",
       "      <th></th>\n",
       "      <th>Pred_class</th>\n",
       "      <th>probabilidade</th>\n",
       "      <th>status</th>\n",
       "      <th>True_class</th>\n",
       "    </tr>\n",
       "  </thead>\n",
       "  <tbody>\n",
       "    <tr>\n",
       "      <th>0</th>\n",
       "      <td>2</td>\n",
       "      <td>0.079892</td>\n",
       "      <td>approved</td>\n",
       "      <td>0.0</td>\n",
       "    </tr>\n",
       "    <tr>\n",
       "      <th>1</th>\n",
       "      <td>2</td>\n",
       "      <td>0.379377</td>\n",
       "      <td>approved</td>\n",
       "      <td>74.0</td>\n",
       "    </tr>\n",
       "    <tr>\n",
       "      <th>2</th>\n",
       "      <td>2</td>\n",
       "      <td>0.379377</td>\n",
       "      <td>approved</td>\n",
       "      <td>74.0</td>\n",
       "    </tr>\n",
       "    <tr>\n",
       "      <th>3</th>\n",
       "      <td>2</td>\n",
       "      <td>0.420930</td>\n",
       "      <td>approved</td>\n",
       "      <td>74.0</td>\n",
       "    </tr>\n",
       "    <tr>\n",
       "      <th>4</th>\n",
       "      <td>2</td>\n",
       "      <td>0.607437</td>\n",
       "      <td>approved</td>\n",
       "      <td>NaN</td>\n",
       "    </tr>\n",
       "    <tr>\n",
       "      <th>5</th>\n",
       "      <td>2</td>\n",
       "      <td>0.690894</td>\n",
       "      <td>approved</td>\n",
       "      <td>NaN</td>\n",
       "    </tr>\n",
       "    <tr>\n",
       "      <th>6</th>\n",
       "      <td>2</td>\n",
       "      <td>0.759493</td>\n",
       "      <td>approved</td>\n",
       "      <td>NaN</td>\n",
       "    </tr>\n",
       "  </tbody>\n",
       "</table>\n",
       "</div>"
      ],
      "text/plain": [
       "   Pred_class  probabilidade    status  True_class\n",
       "0           2       0.079892  approved         0.0\n",
       "1           2       0.379377  approved        74.0\n",
       "2           2       0.379377  approved        74.0\n",
       "3           2       0.420930  approved        74.0\n",
       "4           2       0.607437  approved         NaN\n",
       "5           2       0.690894  approved         NaN\n",
       "6           2       0.759493  approved         NaN"
      ]
     },
     "execution_count": 3,
     "metadata": {},
     "output_type": "execute_result"
    }
   ],
   "source": [
    "df_raw = pd.read_excel(DATA_RAW_PATH+DATA_RAW_NAME, 'Análise_ML')\n",
    "df_raw.head(7)"
   ]
  },
  {
   "cell_type": "code",
   "execution_count": 4,
   "metadata": {},
   "outputs": [
    {
     "data": {
      "text/html": [
       "<div>\n",
       "<style scoped>\n",
       "    .dataframe tbody tr th:only-of-type {\n",
       "        vertical-align: middle;\n",
       "    }\n",
       "\n",
       "    .dataframe tbody tr th {\n",
       "        vertical-align: top;\n",
       "    }\n",
       "\n",
       "    .dataframe thead th {\n",
       "        text-align: right;\n",
       "    }\n",
       "</style>\n",
       "<table border=\"1\" class=\"dataframe\">\n",
       "  <thead>\n",
       "    <tr style=\"text-align: right;\">\n",
       "      <th></th>\n",
       "      <th>colunas</th>\n",
       "      <th>tipo</th>\n",
       "      <th>missing</th>\n",
       "      <th>size</th>\n",
       "      <th>unicos</th>\n",
       "      <th>percentual%</th>\n",
       "    </tr>\n",
       "  </thead>\n",
       "  <tbody>\n",
       "    <tr>\n",
       "      <th>Pred_class</th>\n",
       "      <td>Pred_class</td>\n",
       "      <td>int64</td>\n",
       "      <td>0</td>\n",
       "      <td>643</td>\n",
       "      <td>80</td>\n",
       "      <td>0.0</td>\n",
       "    </tr>\n",
       "    <tr>\n",
       "      <th>probabilidade</th>\n",
       "      <td>probabilidade</td>\n",
       "      <td>float64</td>\n",
       "      <td>0</td>\n",
       "      <td>643</td>\n",
       "      <td>492</td>\n",
       "      <td>0.0</td>\n",
       "    </tr>\n",
       "    <tr>\n",
       "      <th>status</th>\n",
       "      <td>status</td>\n",
       "      <td>object</td>\n",
       "      <td>0</td>\n",
       "      <td>643</td>\n",
       "      <td>2</td>\n",
       "      <td>0.0</td>\n",
       "    </tr>\n",
       "    <tr>\n",
       "      <th>True_class</th>\n",
       "      <td>True_class</td>\n",
       "      <td>float64</td>\n",
       "      <td>462</td>\n",
       "      <td>643</td>\n",
       "      <td>40</td>\n",
       "      <td>71.9</td>\n",
       "    </tr>\n",
       "  </tbody>\n",
       "</table>\n",
       "</div>"
      ],
      "text/plain": [
       "                     colunas     tipo  missing  size  unicos  percentual%\n",
       "Pred_class        Pred_class    int64        0   643      80          0.0\n",
       "probabilidade  probabilidade  float64        0   643     492          0.0\n",
       "status                status   object        0   643       2          0.0\n",
       "True_class        True_class  float64      462   643      40         71.9"
      ]
     },
     "execution_count": 4,
     "metadata": {},
     "output_type": "execute_result"
    }
   ],
   "source": [
    "aux(df_raw)"
   ]
  },
  {
   "cell_type": "code",
   "execution_count": 5,
   "metadata": {},
   "outputs": [
    {
     "data": {
      "text/plain": [
       "<AxesSubplot:>"
      ]
     },
     "execution_count": 5,
     "metadata": {},
     "output_type": "execute_result"
    },
    {
     "data": {
      "image/png": "[encoded data removed]",
      "text/plain": [
       "<Figure size 1800x720 with 2 Axes>"
      ]
     },
     "metadata": {
      "needs_background": "light"
     },
     "output_type": "display_data"
    }
   ],
   "source": [
    "msno.matrix(df_raw)"
   ]
  },
  {
   "cell_type": "markdown",
   "metadata": {},
   "source": [
    "- Percebemos que 71,9% dos dados em True_class estão ausentes, porém, como consta no enunciado do case, podemos considerar que o o modelo acertou e assumir para os valores nulos que Pred_class = True_class.\n",
    "\n",
    "Solução:\n",
    "Irei imputar esses dados para ter uma análise descritiva correta."
   ]
  },
  {
   "cell_type": "code",
   "execution_count": 6,
   "metadata": {},
   "outputs": [],
   "source": [
    "df = df_raw.copy()\n",
    "\n",
    "for i, j in df_raw.iterrows():\n",
    "    if np.isnan(j['True_class']):\n",
    "        df.loc[i, 'True_class'] = j['Pred_class']"
   ]
  },
  {
   "cell_type": "code",
   "execution_count": 7,
   "metadata": {},
   "outputs": [],
   "source": [
    "df.to_csv(DATA_INTER_PATH+DATA_INTER_NAME, index=False)"
   ]
  },
  {
   "cell_type": "markdown",
   "metadata": {},
   "source": [
    "### Questão 1: \n",
    "#### Análise exploratória dos dados utilizando estatística descritiva e inferencial, considerando uma, duas e/ou mais variáveis."
   ]
  },
  {
   "cell_type": "markdown",
   "metadata": {},
   "source": [
    "Trabalharemos com o dataset somente quando a *feature* status estiver como **approved** já que, como consta no enunciado:\n",
    "> status - status da classificação de acordo com um especialista (approved);"
   ]
  },
  {
   "cell_type": "code",
   "execution_count": 8,
   "metadata": {},
   "outputs": [],
   "source": [
    "df_approved = df[df['status'] == 'approved']"
   ]
  },
  {
   "cell_type": "markdown",
   "metadata": {},
   "source": [
    "Irei utilizar uma *flag* para classificar se:\n",
    "- Pred_class == True_class, logo = 1\n",
    "- Pred_class != True_class, logo = 0"
   ]
  },
  {
   "cell_type": "code",
   "execution_count": 9,
   "metadata": {},
   "outputs": [],
   "source": [
    "df_approved['correct'] = np.where(df_approved['Pred_class'] == df_approved['True_class'], 1, 0)"
   ]
  },
  {
   "cell_type": "code",
   "execution_count": 10,
   "metadata": {},
   "outputs": [
    {
     "data": {
      "text/html": [
       "<div>\n",
       "<style scoped>\n",
       "    .dataframe tbody tr th:only-of-type {\n",
       "        vertical-align: middle;\n",
       "    }\n",
       "\n",
       "    .dataframe tbody tr th {\n",
       "        vertical-align: top;\n",
       "    }\n",
       "\n",
       "    .dataframe thead th {\n",
       "        text-align: right;\n",
       "    }\n",
       "</style>\n",
       "<table border=\"1\" class=\"dataframe\">\n",
       "  <thead>\n",
       "    <tr style=\"text-align: right;\">\n",
       "      <th></th>\n",
       "      <th>Pred_class</th>\n",
       "      <th>probabilidade</th>\n",
       "      <th>True_class</th>\n",
       "      <th>correct</th>\n",
       "    </tr>\n",
       "  </thead>\n",
       "  <tbody>\n",
       "    <tr>\n",
       "      <th>count</th>\n",
       "      <td>600.000000</td>\n",
       "      <td>600.000000</td>\n",
       "      <td>600.000000</td>\n",
       "      <td>600.000000</td>\n",
       "    </tr>\n",
       "    <tr>\n",
       "      <th>mean</th>\n",
       "      <td>53.545000</td>\n",
       "      <td>0.629549</td>\n",
       "      <td>48.765000</td>\n",
       "      <td>0.698333</td>\n",
       "    </tr>\n",
       "    <tr>\n",
       "      <th>std</th>\n",
       "      <td>37.796944</td>\n",
       "      <td>0.270583</td>\n",
       "      <td>38.881651</td>\n",
       "      <td>0.459364</td>\n",
       "    </tr>\n",
       "    <tr>\n",
       "      <th>min</th>\n",
       "      <td>2.000000</td>\n",
       "      <td>0.043858</td>\n",
       "      <td>0.000000</td>\n",
       "      <td>0.000000</td>\n",
       "    </tr>\n",
       "    <tr>\n",
       "      <th>25%</th>\n",
       "      <td>12.000000</td>\n",
       "      <td>0.411801</td>\n",
       "      <td>3.000000</td>\n",
       "      <td>0.000000</td>\n",
       "    </tr>\n",
       "    <tr>\n",
       "      <th>50%</th>\n",
       "      <td>60.000000</td>\n",
       "      <td>0.635104</td>\n",
       "      <td>60.000000</td>\n",
       "      <td>1.000000</td>\n",
       "    </tr>\n",
       "    <tr>\n",
       "      <th>75%</th>\n",
       "      <td>82.000000</td>\n",
       "      <td>0.881497</td>\n",
       "      <td>77.000000</td>\n",
       "      <td>1.000000</td>\n",
       "    </tr>\n",
       "    <tr>\n",
       "      <th>max</th>\n",
       "      <td>118.000000</td>\n",
       "      <td>1.000000</td>\n",
       "      <td>118.000000</td>\n",
       "      <td>1.000000</td>\n",
       "    </tr>\n",
       "  </tbody>\n",
       "</table>\n",
       "</div>"
      ],
      "text/plain": [
       "       Pred_class  probabilidade  True_class     correct\n",
       "count  600.000000     600.000000  600.000000  600.000000\n",
       "mean    53.545000       0.629549   48.765000    0.698333\n",
       "std     37.796944       0.270583   38.881651    0.459364\n",
       "min      2.000000       0.043858    0.000000    0.000000\n",
       "25%     12.000000       0.411801    3.000000    0.000000\n",
       "50%     60.000000       0.635104   60.000000    1.000000\n",
       "75%     82.000000       0.881497   77.000000    1.000000\n",
       "max    118.000000       1.000000  118.000000    1.000000"
      ]
     },
     "execution_count": 10,
     "metadata": {},
     "output_type": "execute_result"
    }
   ],
   "source": [
    "df_approved.describe()"
   ]
  },
  {
   "cell_type": "code",
   "execution_count": 11,
   "metadata": {},
   "outputs": [
    {
     "data": {
      "image/png": "[encoded data removed]",
      "text/plain": [
       "<Figure size 864x504 with 1 Axes>"
      ]
     },
     "metadata": {
      "needs_background": "light"
     },
     "output_type": "display_data"
    }
   ],
   "source": [
    "fig = plt.figure(figsize=(12, 7))\n",
    "sns.histplot(df_approved['probabilidade'], kde=True)\n",
    "fig.savefig(FIGURES+'/dist_proba.png')"
   ]
  },
  {
   "cell_type": "markdown",
   "metadata": {},
   "source": [
    "Irei separar o *DataFrame* em 3:\n",
    "\n",
    "> - Probabilidade <= 0.3;\n",
    "> - Probabilidade > 0.3 e Probabilidade <= 0.6;\n",
    "> - Probabilidade > 0.6."
   ]
  },
  {
   "cell_type": "code",
   "execution_count": 12,
   "metadata": {},
   "outputs": [],
   "source": [
    "df_approved_03 = df_approved[df_approved['probabilidade'] <= 0.3]\n",
    "df_approved_0306 = df_approved[(df_approved['probabilidade'] > 0.3) & (df_approved['probabilidade'] <= 0.6)]\n",
    "df_approved_06 = df_approved[df_approved['probabilidade'] > 0.6]"
   ]
  },
  {
   "cell_type": "code",
   "execution_count": 13,
   "metadata": {},
   "outputs": [
    {
     "data": {
      "image/png": "[encoded data removed]",
      "text/plain": [
       "<Figure size 864x576 with 1 Axes>"
      ]
     },
     "metadata": {
      "needs_background": "light"
     },
     "output_type": "display_data"
    }
   ],
   "source": [
    "fig = plt.figure(figsize=(12,8))\n",
    "plt.xlabel('Class')\n",
    "plt.ylabel('Frequency [%]')\n",
    "\n",
    "ax = (df_approved_03['correct'].value_counts()/len(df_approved_03)*100).sort_index().plot(kind=\"bar\", rot=0)\n",
    "ax.set_yticks(np.arange(0, 110, 10))\n",
    "\n",
    "\n",
    "for p in ax.patches:\n",
    "    ax.annotate('{:.2f}%'.format(p.get_height()), (p.get_x()+0.18, p.get_height()+1))\n",
    "\n",
    "fig.savefig(FIGURES+'/prob_03.png')"
   ]
  },
  {
   "cell_type": "code",
   "execution_count": 14,
   "metadata": {},
   "outputs": [
    {
     "data": {
      "image/png": "[encoded data removed]",
      "text/plain": [
       "<Figure size 864x576 with 1 Axes>"
      ]
     },
     "metadata": {
      "needs_background": "light"
     },
     "output_type": "display_data"
    }
   ],
   "source": [
    "fig = plt.figure(figsize=(12,8))\n",
    "plt.xlabel('Class')\n",
    "plt.ylabel('Frequency [%]')\n",
    "\n",
    "ax = (df_approved_0306['correct'].value_counts()/len(df_approved_0306)*100).sort_index().plot(kind=\"bar\", rot=0)\n",
    "ax.set_yticks(np.arange(0, 110, 10))\n",
    "\n",
    "\n",
    "for p in ax.patches:\n",
    "    ax.annotate('{:.2f}%'.format(p.get_height()), (p.get_x()+0.18, p.get_height()+1))\n",
    "\n",
    "fig.savefig(FIGURES+'/prob_0306.png')"
   ]
  },
  {
   "cell_type": "code",
   "execution_count": 15,
   "metadata": {},
   "outputs": [
    {
     "data": {
      "image/png": "[encoded data removed]",
      "text/plain": [
       "<Figure size 864x576 with 1 Axes>"
      ]
     },
     "metadata": {
      "needs_background": "light"
     },
     "output_type": "display_data"
    }
   ],
   "source": [
    "fig = plt.figure(figsize=(12,8))\n",
    "plt.xlabel('Class')\n",
    "plt.ylabel('Frequency [%]')\n",
    "\n",
    "ax = (df_approved_06['correct'].value_counts()/len(df_approved_06)*100).sort_index().plot(kind=\"bar\", rot=0)\n",
    "ax.set_yticks(np.arange(0, 110, 10))\n",
    "\n",
    "\n",
    "for p in ax.patches:\n",
    "    ax.annotate('{:.2f}%'.format(p.get_height()), (p.get_x()+0.18, p.get_height()+1))\n",
    "\n",
    "fig.savefig(FIGURES+'/prob_06.png')"
   ]
  },
  {
   "cell_type": "markdown",
   "metadata": {},
   "source": [
    "Como já previsto, mas demonstrado graficamente, o modelo erra mais quando a probabilidade de certeza quanto a resposta é baixa e a medida que o a probabilidade sobe o modelo acerta mais."
   ]
  }
 ],
 "metadata": {
  "kernelspec": {
   "display_name": "Python 3",
   "language": "python",
   "name": "python3"
  },
  "language_info": {
   "codemirror_mode": {
    "name": "ipython",
    "version": 3
   },
   "file_extension": ".py",
   "mimetype": "text/x-python",
   "name": "python",
   "nbconvert_exporter": "python",
   "pygments_lexer": "ipython3",
   "version": "3.8.8"
  }
 },
 "nbformat": 4,
 "nbformat_minor": 4
}
